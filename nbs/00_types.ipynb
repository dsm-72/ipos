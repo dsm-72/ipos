{
 "cells": [
  {
   "attachments": {},
   "cell_type": "markdown",
   "metadata": {},
   "source": [
    "# Types\n",
    "\n",
    "> imp types"
   ]
  },
  {
   "cell_type": "code",
   "execution_count": null,
   "metadata": {},
   "outputs": [],
   "source": [
    "#| default_exp types"
   ]
  },
  {
   "cell_type": "code",
   "execution_count": null,
   "metadata": {},
   "outputs": [],
   "source": [
    "#| hide\n",
    "from nbdev.showdoc import *"
   ]
  },
  {
   "cell_type": "code",
   "execution_count": null,
   "metadata": {},
   "outputs": [],
   "source": [
    "#| export\n",
    "import types, importlib\n",
    "\n",
    "from importlib.abc import Loader\n",
    "from importlib.machinery import ModuleSpec\n",
    "\n",
    "from typing import Optional, Dict, Any, TypeAlias, Union, ClassVar, List, Tuple"
   ]
  },
  {
   "attachments": {},
   "cell_type": "markdown",
   "metadata": {},
   "source": [
    "## Types"
   ]
  },
  {
   "cell_type": "code",
   "execution_count": null,
   "metadata": {},
   "outputs": [],
   "source": [
    "#| export\n",
    "Module: TypeAlias = types.ModuleType\n",
    "\n",
    "Loader: TypeAlias = importlib.abc.Loader\n",
    "\n",
    "ModuleSpec: TypeAlias = importlib.machinery.ModuleSpec\n",
    "\n",
    "VariableDict: TypeAlias = Dict[str, Any]\n",
    "\n",
    "FallbackType: TypeAlias = Optional[Union['Fallbacks', VariableDict]]\n",
    "\n",
    "ImpItemsType: TypeAlias = Optional[List['ImpItem']]\n",
    "\n",
    "ImpSubSpecType : TypeAlias = Optional[List['ImpSubSpec']]"
   ]
  },
  {
   "cell_type": "code",
   "execution_count": null,
   "metadata": {},
   "outputs": [],
   "source": [
    "#| hide\n",
    "import nbdev; nbdev.nbdev_export()"
   ]
  }
 ],
 "metadata": {
  "kernelspec": {
   "display_name": "python3",
   "language": "python",
   "name": "python3"
  }
 },
 "nbformat": 4,
 "nbformat_minor": 4
}
