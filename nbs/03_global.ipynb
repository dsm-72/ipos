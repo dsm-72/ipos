{
 "cells": [
  {
   "attachments": {},
   "cell_type": "markdown",
   "metadata": {},
   "source": [
    "# Global Imp\n",
    "\n",
    "> global import context manager"
   ]
  },
  {
   "cell_type": "code",
   "execution_count": null,
   "metadata": {},
   "outputs": [],
   "source": [
    "#| default_exp gimp"
   ]
  },
  {
   "cell_type": "code",
   "execution_count": null,
   "metadata": {},
   "outputs": [],
   "source": [
    "#| hide\n",
    "from nbdev.showdoc import *"
   ]
  },
  {
   "cell_type": "code",
   "execution_count": null,
   "metadata": {},
   "outputs": [],
   "source": [
    "#| export\n",
    "import inspect\n",
    "from dataclasses import dataclass"
   ]
  },
  {
   "attachments": {},
   "cell_type": "markdown",
   "metadata": {},
   "source": [
    "## Global Context Manager"
   ]
  },
  {
   "cell_type": "code",
   "execution_count": null,
   "metadata": {},
   "outputs": [],
   "source": [
    "#| export\n",
    "@dataclass\n",
    "class GImp:\n",
    "    '''\n",
    "    Notes\n",
    "    -----\n",
    "    - Taken from rafał grabie: https://stackoverflow.com/a/52856976/5623899\n",
    "    \n",
    "    '''\n",
    "    def __enter__(self):\n",
    "        # The __enter__ method does nothing but return the context manager itself.\n",
    "        return self\n",
    "    \n",
    "    def __call__(self):    \n",
    "        # first gets the current execution frame\n",
    "        currentframe = inspect.currentframe()\n",
    "        \n",
    "        # then it gets all outer frames from the current frame\n",
    "        outerframes  = inspect.getouterframes(currentframe)\n",
    "        \n",
    "        # then the outer frame immediately surrounding the current frame is \n",
    "        # obtained by indexing the outerframes with [1].frame.\n",
    "        outerframe   = outerframes[1].frame\n",
    "        \n",
    "        # The local variables in that frame are then collected\n",
    "        # which returns a dictionary of local variables in the outer frame.         \n",
    "        self.collector = inspect.getargvalues(outerframe).locals\n",
    "\n",
    "    def __exit__(self, *args):\n",
    "        # Called when `with` block ends and it takes the dictionary of \n",
    "        # local variables (stored in self.collector) and adds it to the \n",
    "        # global namespace using globals().update(self.collector). \n",
    "        # This makes all local variables in the outer frame globally accessible.\n",
    "        globals().update(self.collector)"
   ]
  },
  {
   "cell_type": "code",
   "execution_count": null,
   "metadata": {},
   "outputs": [],
   "source": [
    "#| eval: False\n",
    "with GImp() as gimp:\n",
    "    \n",
    "    import os, signal, atexit, threading, _thread\n",
    "    # whatever you want it won't remain local\n",
    "    # if only \n",
    "    gimp()\n",
    "    # is called before the end of this block\n",
    "\n",
    "# there you go: use os, signal, ... from whatever place of the module"
   ]
  },
  {
   "cell_type": "code",
   "execution_count": null,
   "metadata": {},
   "outputs": [],
   "source": [
    "#| hide\n",
    "import nbdev; nbdev.nbdev_export()"
   ]
  }
 ],
 "metadata": {
  "kernelspec": {
   "display_name": "python3",
   "language": "python",
   "name": "python3"
  }
 },
 "nbformat": 4,
 "nbformat_minor": 4
}
